{
 "cells": [
  {
   "cell_type": "code",
   "execution_count": 1,
   "metadata": {},
   "outputs": [],
   "source": [
    "%matplotlib inline\n",
    "%load_ext autoreload\n",
    "%autoreload 2\n",
    "import numpy as np\n",
    "from matrix_neural_net import Network\n",
    "import matplotlib.pyplot as plt\n",
    "import os\n",
    "from tqdm import tqdm\n",
    "\n",
    "class TqdmUpdate(tqdm):\n",
    "     def update_to(self, b=1, bsize=1, tsize=None):\n",
    "        \"\"\"\n",
    "        b  : int, optional\n",
    "            Number of blocks transferred so far [default: 1].\n",
    "        bsize  : int, optional\n",
    "            Size of each block (in tqdm units) [default: 1].\n",
    "        tsize  : int, optional\n",
    "            Total size (in tqdm units). If [default: None] remains unchanged.\n",
    "        \"\"\"\n",
    "        if tsize is not None:\n",
    "            self.total = tsize\n",
    "        \n",
    "        self.update(b * bsize - self.n)  # will also set self.n = b * bsize"
   ]
  },
  {
   "cell_type": "code",
   "execution_count": 2,
   "metadata": {},
   "outputs": [],
   "source": [
    "# load images and labels of the MNIST data set \n",
    "# each element in x_train/x_test is a handwritten digit\n",
    "# and each element in y_train/y_test is the associated \n",
    "# label for that digit (0-9)\n",
    "if not os.path.exists('./data/mnist/X.npy'):\n",
    "    import mnist\n",
    "    (x_train, y_train), (x_test, y_test) = mnist.load_data()\n",
    "    X = np.append(x_train, x_test)\n",
    "    y = np.append(y_train, y_test)\n",
    "    np.save('./data/mnist/X', X)\n",
    "    np.save('./data/mnist/y', y)\n",
    "\n",
    "X = np.load('./data/mnist/X.npy')\n",
    "X = X.reshape(70000, 28, 28)\n",
    "# divide by 255 to normalize values\n",
    "X = np.array([ (x.flatten())/255 for x in X])\n",
    "\n",
    "y = np.load('./data/mnist/y.npy')\n",
    "y = y.reshape(70000, )\n",
    "y = np.array([int(i) for i in y])\n",
    "\n",
    "# One hot encode the y data (target variable)\n",
    "temp = np.zeros((y.size, int(y.max())+1))\n",
    "temp[np.arange(y.size),y] = 1\n",
    "y = temp"
   ]
  },
  {
   "cell_type": "code",
   "execution_count": 3,
   "metadata": {
    "scrolled": false
   },
   "outputs": [
    {
     "data": {
      "text/plain": [
       "<matplotlib.image.AxesImage at 0x7f9a7a61c550>"
      ]
     },
     "execution_count": 3,
     "metadata": {},
     "output_type": "execute_result"
    },
    {
     "data": {
      "image/png": "[encoded data removed]",
      "text/plain": [
       "<Figure size 432x288 with 1 Axes>"
      ]
     },
     "metadata": {
      "needs_background": "light"
     },
     "output_type": "display_data"
    }
   ],
   "source": [
    "# example of one of the handwritten digits\n",
    "plt.imshow(X[432].reshape((28,28)))"
   ]
  },
  {
   "cell_type": "code",
   "execution_count": 4,
   "metadata": {},
   "outputs": [
    {
     "data": {
      "text/plain": [
       "2"
      ]
     },
     "execution_count": 4,
     "metadata": {},
     "output_type": "execute_result"
    }
   ],
   "source": [
    "np.argmax(y[432])"
   ]
  },
  {
   "cell_type": "code",
   "execution_count": 5,
   "metadata": {},
   "outputs": [
    {
     "data": {
      "text/plain": [
       "784"
      ]
     },
     "execution_count": 5,
     "metadata": {},
     "output_type": "execute_result"
    }
   ],
   "source": [
    "# each image is 28x28 pixels, which is flattened\n",
    "# out into an input array of length 784\n",
    "len(X[0])"
   ]
  },
  {
   "cell_type": "code",
   "execution_count": 6,
   "metadata": {},
   "outputs": [],
   "source": [
    "# instatiate network with sigmoid activation\n",
    "# this shape returns an ~96% testing accuracy \n",
    "# and takes about 9min to train on the MNIST \n",
    "# dataset (60,000 images) on an intel pentium, \n",
    "# 8Gb memory\n",
    "network = Network(\n",
    "    shape=[784, 200, 80, 10], \n",
    "    activation = 'tanh', output_activation='sigmoid',\n",
    "    loss=\"cross_entropy\"\n",
    ")"
   ]
  },
  {
   "cell_type": "code",
   "execution_count": 7,
   "metadata": {},
   "outputs": [
    {
     "data": {
      "text/plain": [
       "array([0.14934476, 0.06750647, 0.06522192, 0.15584943, 0.05803778,\n",
       "       0.06289537, 0.07016794, 0.15741742, 0.15460141, 0.05895749])"
      ]
     },
     "execution_count": 7,
     "metadata": {},
     "output_type": "execute_result"
    }
   ],
   "source": [
    "# verify that the forwad pass works and provides an \n",
    "# output with a probability for each label\n",
    "guess = network.forward_pass(X[0])\n",
    "guess"
   ]
  },
  {
   "cell_type": "code",
   "execution_count": 8,
   "metadata": {},
   "outputs": [
    {
     "data": {
      "text/plain": [
       "7"
      ]
     },
     "execution_count": 8,
     "metadata": {},
     "output_type": "execute_result"
    }
   ],
   "source": [
    "# the position of the highest probability is taken\n",
    "# to be the network's output\n",
    "interpret = lambda x: np.argmax(x)\n",
    "interpret(guess)"
   ]
  },
  {
   "cell_type": "code",
   "execution_count": 9,
   "metadata": {},
   "outputs": [],
   "source": [
    "# verify that the backwards pass works\n",
    "network.backward_pass(\n",
    "    network_input = X[0],\n",
    "    network_output = guess, \n",
    "    expected_output = y[0]\n",
    ")"
   ]
  },
  {
   "cell_type": "code",
   "execution_count": null,
   "metadata": {
    "scrolled": false
   },
   "outputs": [],
   "source": [
    "network_params = {\n",
    "    'shape': [784, 200, 40, 10],\n",
    "    'activation': 'sigmoid',\n",
    "    'output_activation': 'sigmoid',\n",
    "    'loss':'cross_entropy',\n",
    "    'learning_rate': 0.1\n",
    "}\n",
    "network = Network(**network_params)\n",
    "with TqdmUpdate() as t: \n",
    "    training_accuracy, testing_accuracy = network.train_test(X, y, test_split=0.2, progress=t.update_to)\n",
    "\n",
    "print (\"Train acc: %.4f - Test acc: %.4f\" %(training_accuracy, testing_accuracy))\n",
    " "
   ]
  },
  {
   "cell_type": "code",
   "execution_count": 11,
   "metadata": {},
   "outputs": [
    {
     "name": "stderr",
     "output_type": "stream",
     "text": [
      "[autoreload of matrix_neural_net failed: Traceback (most recent call last):\n",
      "  File \"/home/leo/.local/lib/python3.7/site-packages/IPython/extensions/autoreload.py\", line 245, in check\n",
      "    superreload(m, reload, self.old_objects)\n",
      "  File \"/home/leo/.local/lib/python3.7/site-packages/IPython/extensions/autoreload.py\", line 450, in superreload\n",
      "    update_generic(old_obj, new_obj)\n",
      "  File \"/home/leo/.local/lib/python3.7/site-packages/IPython/extensions/autoreload.py\", line 387, in update_generic\n",
      "    update(a, b)\n",
      "  File \"/home/leo/.local/lib/python3.7/site-packages/IPython/extensions/autoreload.py\", line 357, in update_class\n",
      "    update_instances(old, new)\n",
      "  File \"/home/leo/.local/lib/python3.7/site-packages/IPython/extensions/autoreload.py\", line 317, in update_instances\n",
      "    update_instances(old, new, obj, visited)\n",
      "  File \"/home/leo/.local/lib/python3.7/site-packages/IPython/extensions/autoreload.py\", line 317, in update_instances\n",
      "    update_instances(old, new, obj, visited)\n",
      "  File \"/home/leo/.local/lib/python3.7/site-packages/IPython/extensions/autoreload.py\", line 310, in update_instances\n",
      "    if hasattr(obj, '__dict__') and not (inspect.isfunction(obj)\n",
      "KeyboardInterrupt\n",
      "]\n"
     ]
    }
   ],
   "source": [
    "# POSSIBLE IMPROVEMENTS: \n",
    "# 1. Implement Softmax output activation function. I have read that this \n",
    "#    performs better with classification problems since it normalizes the \n",
    "#    the output vector to have a norm of 1\n",
    "# 3. Implement some sort of data set augmentation \n",
    "# 4. Implement some sort of convolution and pooling layers for faster computation\n",
    "# 5. Implement adams optimizer for more efficient gradient descent\n",
    "# 6. Research more on various error functions that can be used to evaluate the model. "
   ]
  }
 ],
 "metadata": {
  "kernelspec": {
   "display_name": "Python 3",
   "language": "python",
   "name": "python3"
  },
  "language_info": {
   "codemirror_mode": {
    "name": "ipython",
    "version": 3
   },
   "file_extension": ".py",
   "mimetype": "text/x-python",
   "name": "python",
   "nbconvert_exporter": "python",
   "pygments_lexer": "ipython3",
   "version": "3.7.5"
  }
 },
 "nbformat": 4,
 "nbformat_minor": 2
}
