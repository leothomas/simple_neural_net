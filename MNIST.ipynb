{
 "cells": [
  {
   "cell_type": "code",
   "execution_count": 1,
   "metadata": {},
   "outputs": [],
   "source": [
    "%matplotlib inline\n",
    "import numpy as np\n",
    "from progress.bar import Bar\n",
    "from matrix_neural_net import Network\n",
    "import matplotlib.pyplot as plt\n",
    "import mnist\n",
    "from tqdm import tqdm_notebook , tnrange\n",
    "from IPython import display"
   ]
  },
  {
   "cell_type": "code",
   "execution_count": 2,
   "metadata": {},
   "outputs": [],
   "source": [
    "# load images and labels of the MNIST data set \n",
    "# each element in x_train/x_test is a handwritten digit\n",
    "# and each element in y_train/y_test is the associated \n",
    "# label for that digit (0-9)\n",
    "(x_train, y_train), (x_test, y_test) = mnist.load_data()"
   ]
  },
  {
   "cell_type": "code",
   "execution_count": 4,
   "metadata": {},
   "outputs": [],
   "source": [
    "# generates an array of 0's with 1 at the position of the correct digit\n",
    "# in order to match the output of the network's classification\n",
    "def one_hot_encode(val):\n",
    "    r = np.zeros(10)\n",
    "    r[int(val)] = 1\n",
    "    return r"
   ]
  },
  {
   "cell_type": "code",
   "execution_count": 5,
   "metadata": {},
   "outputs": [],
   "source": [
    "y_train = np.array([one_hot_encode(i) for i in y_train])\n",
    "y_test = np.array([one_hot_encode(i) for i in y_test])"
   ]
  },
  {
   "cell_type": "code",
   "execution_count": 6,
   "metadata": {
    "scrolled": true
   },
   "outputs": [
    {
     "data": {
      "text/plain": [
       "<matplotlib.image.AxesImage at 0x7fd0e06f4fd0>"
      ]
     },
     "execution_count": 6,
     "metadata": {},
     "output_type": "execute_result"
    },
    {
     "data": {
      "image/png": "[encoded data removed]",
      "text/plain": [
       "<Figure size 432x288 with 1 Axes>"
      ]
     },
     "metadata": {
      "needs_background": "light"
     },
     "output_type": "display_data"
    }
   ],
   "source": [
    "# example of one of the handwritten digits\n",
    "plt.imshow(x_train[0])"
   ]
  },
  {
   "cell_type": "code",
   "execution_count": 7,
   "metadata": {},
   "outputs": [
    {
     "data": {
      "text/plain": [
       "784"
      ]
     },
     "execution_count": 7,
     "metadata": {},
     "output_type": "execute_result"
    }
   ],
   "source": [
    "# each image is 28x28 pixels, which is flattened\n",
    "# out into an input array of length 784\n",
    "len(x_train[0].flatten())"
   ]
  },
  {
   "cell_type": "code",
   "execution_count": 8,
   "metadata": {},
   "outputs": [],
   "source": [
    "# instatiate network with sigmoid activation\n",
    "# this shape returns an ~80% testing accuracy \n",
    "# and takes about 4m30s to train on the MNIST \n",
    "# dataset (60,000 images) on an intel pentium, \n",
    "# 8Gb memory\n",
    "network = Network(\n",
    "    shape=[784, 200,80, 10], \n",
    "    activation = 'sigmoid', output_activation='sigmoid',\n",
    "    learning_rate= 0.01\n",
    ")"
   ]
  },
  {
   "cell_type": "code",
   "execution_count": 9,
   "metadata": {},
   "outputs": [
    {
     "name": "stderr",
     "output_type": "stream",
     "text": [
      "/home/leo/machine_learning/simple_neural_net/matrix_neural_net.py:20: RuntimeWarning: overflow encountered in exp\n",
      "  lambda X: 1. / (1. + np.exp(-X)),\n"
     ]
    },
    {
     "data": {
      "text/plain": [
       "array([0.02455302, 0.02886941, 0.15066716, 0.96059277, 0.54889627,\n",
       "       0.72758867, 0.20572476, 0.49915987, 0.97647272, 0.11306913])"
      ]
     },
     "execution_count": 9,
     "metadata": {},
     "output_type": "execute_result"
    }
   ],
   "source": [
    "# verify that the forwad pass works and provides an \n",
    "# output with a probability for each label\n",
    "guess = network.forward_pass(x_train[0].flatten())\n",
    "guess"
   ]
  },
  {
   "cell_type": "code",
   "execution_count": 10,
   "metadata": {},
   "outputs": [
    {
     "data": {
      "text/plain": [
       "8"
      ]
     },
     "execution_count": 10,
     "metadata": {},
     "output_type": "execute_result"
    }
   ],
   "source": [
    "# the position of the highest probability is taken\n",
    "# to be the network's output\n",
    "interpret = lambda x: np.argmax(x)\n",
    "interpret(guess)"
   ]
  },
  {
   "cell_type": "code",
   "execution_count": 11,
   "metadata": {},
   "outputs": [],
   "source": [
    "# verify that the backwards pass works\n",
    "network.backward_pass(\n",
    "    network_input = x_train[0].flatten(),\n",
    "    network_output = guess, \n",
    "    expected_output = y_train[0]\n",
    ")"
   ]
  },
  {
   "cell_type": "code",
   "execution_count": 12,
   "metadata": {
    "scrolled": true
   },
   "outputs": [
    {
     "data": {
      "application/vnd.jupyter.widget-view+json": {
       "model_id": "84b66bb3ffd042ada090a62b0f21f251",
       "version_major": 2,
       "version_minor": 0
      },
      "text/plain": [
       "HBox(children=(IntProgress(value=0, description='Training', style=ProgressStyle(description_width='initial')),…"
      ]
     },
     "metadata": {},
     "output_type": "display_data"
    },
    {
     "name": "stdout",
     "output_type": "stream",
     "text": [
      "\n"
     ]
    }
   ],
   "source": [
    "# training the network: \n",
    "# the training and testing sets are split up into 100 epochs \n",
    "# each epoch executes 600 training passes (forward and backwards)\n",
    "# propagation, followed by 100 testing passes to determine the \n",
    "# accuracy. The cost function is (y_expected - y_output)**2\n",
    "\n",
    "accuracies = []\n",
    "num_epochs = 100\n",
    "\n",
    "for i in tnrange(num_epochs, desc=\"Training\"):\n",
    "    \n",
    "    # find then start and end indices in the training\n",
    "    # and testing sets for this training epoch \n",
    "    train_start = i * int(len(x_train)/num_epochs)\n",
    "    train_end = (i+1) * int(len(x_train)/num_epochs)\n",
    "    test_start = i * int(len(x_test)/num_epochs)\n",
    "    test_end = (i+1) * int(len(x_test)/num_epochs)\n",
    "    \n",
    "    # TRAIN\n",
    "    for i in range(train_start, train_end):\n",
    "        \n",
    "        output = network.forward_pass(x_train[i].flatten())\n",
    "        \n",
    "        network.backward_pass(\n",
    "            network_input = x_train[i].flatten(),\n",
    "            network_output = output,\n",
    "            expected_output = y_train[i]\n",
    "        )\n",
    "\n",
    "    # TEST\n",
    "    correct= 0\n",
    "    for i in range(test_start, test_end):\n",
    "        \n",
    "        output = network.forward_pass(x_test[i].flatten())\n",
    "        \n",
    "        if interpret(output) == interpret(y_test[i]):\n",
    "            correct += 1\n",
    "        \n",
    "    accuracy = correct /(test_end - test_start)\n",
    "    accuracies.append(accuracy)\n",
    "\n",
    " "
   ]
  },
  {
   "cell_type": "code",
   "execution_count": 13,
   "metadata": {
    "scrolled": true
   },
   "outputs": [
    {
     "data": {
      "image/png": "[encoded data removed]",
      "text/plain": [
       "<Figure size 432x288 with 1 Axes>"
      ]
     },
     "metadata": {
      "needs_background": "light"
     },
     "output_type": "display_data"
    }
   ],
   "source": [
    "# Testing accuracy: the percentage of correct guesses in \n",
    "# each testing pass\n",
    "plt.figure()\n",
    "plt.plot(accuracies)\n",
    "plt.title(\"Network Testing Accuracy\")\n",
    "plt.xlabel(\"Testing Epoch\")\n",
    "plt.ylabel(\"% of correct labels\")\n",
    "plt.show()"
   ]
  },
  {
   "cell_type": "code",
   "execution_count": null,
   "metadata": {},
   "outputs": [],
   "source": [
    "# POSSIBLE IMPROVEMENTS: \n",
    "# 1. Implement Softmax output activation function. I have read that this \n",
    "#    performs better with classification problems since it normalizes the \n",
    "#    the output vector to have a norm of 1\n",
    "# 2. Implement an adaptable learning rate\n",
    "# 3. Implement some sort of data set augmentation \n",
    "# 4. Implement some sort of convolution and pooling layers for faster computation\n",
    "# 5. Implement adams optimizer for more efficient gradient descent\n",
    "# 6. Research more on various error functions that can be used to evaluate the model. "
   ]
  }
 ],
 "metadata": {
  "kernelspec": {
   "display_name": "Python 3",
   "language": "python",
   "name": "python3"
  },
  "language_info": {
   "codemirror_mode": {
    "name": "ipython",
    "version": 3
   },
   "file_extension": ".py",
   "mimetype": "text/x-python",
   "name": "python",
   "nbconvert_exporter": "python",
   "pygments_lexer": "ipython3",
   "version": "3.7.5"
  }
 },
 "nbformat": 4,
 "nbformat_minor": 2
}
