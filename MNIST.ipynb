{
 "cells": [
  {
   "cell_type": "code",
   "execution_count": 128,
   "metadata": {},
   "outputs": [],
   "source": [
    "%matplotlib inline\n",
    "import numpy as np\n",
    "from progress.bar import Bar\n",
    "from matrix_neural_net import Network\n",
    "import matplotlib.pyplot as plt\n",
    "import mnist\n",
    "from tqdm import tqdm_notebook , tnrange\n",
    "from IPython import display\n",
    "from IPython.display import clear_output\n"
   ]
  },
  {
   "cell_type": "code",
   "execution_count": 44,
   "metadata": {},
   "outputs": [],
   "source": [
    "(x_train, y_train), (x_test, y_test) = mnist.load_data()"
   ]
  },
  {
   "cell_type": "code",
   "execution_count": 65,
   "metadata": {},
   "outputs": [],
   "source": [
    "def one_hot_encode(val):\n",
    "    r = np.zeros(10)\n",
    "    r[int(val)] = 1\n",
    "    return r"
   ]
  },
  {
   "cell_type": "code",
   "execution_count": 68,
   "metadata": {},
   "outputs": [],
   "source": [
    "temp_y_train = np.array([one_hot_encode(i) for i in y_train])\n",
    "temp_y_test = np.array([one_hot_encode(i) for i in y_test])"
   ]
  },
  {
   "cell_type": "code",
   "execution_count": 70,
   "metadata": {
    "scrolled": true
   },
   "outputs": [
    {
     "data": {
      "text/plain": [
       "<matplotlib.image.AxesImage at 0x7f1df5d18ed0>"
      ]
     },
     "execution_count": 70,
     "metadata": {},
     "output_type": "execute_result"
    },
    {
     "data": {
      "image/png": "[encoded data removed]",
      "text/plain": [
       "<Figure size 432x288 with 1 Axes>"
      ]
     },
     "metadata": {
      "needs_background": "light"
     },
     "output_type": "display_data"
    }
   ],
   "source": [
    "plt.imshow(x_train[0])"
   ]
  },
  {
   "cell_type": "code",
   "execution_count": 73,
   "metadata": {},
   "outputs": [
    {
     "data": {
      "text/plain": [
       "784"
      ]
     },
     "execution_count": 73,
     "metadata": {},
     "output_type": "execute_result"
    }
   ],
   "source": [
    "len(x_train[0].flatten())"
   ]
  },
  {
   "cell_type": "code",
   "execution_count": 152,
   "metadata": {},
   "outputs": [],
   "source": [
    "network = Network(\n",
    "    shape=[784, 200,80, 10], \n",
    "    activation = 'sigmoid', output_activation=\"sigmoid\",\n",
    "    learning_rate= 0.01\n",
    ")"
   ]
  },
  {
   "cell_type": "code",
   "execution_count": 120,
   "metadata": {},
   "outputs": [],
   "source": [
    "guess = network.forward_pass(x_train[0].flatten())"
   ]
  },
  {
   "cell_type": "code",
   "execution_count": 121,
   "metadata": {},
   "outputs": [
    {
     "data": {
      "text/plain": [
       "array([-0.98481186,  0.9999754 ,  0.99992967,  0.99954353, -0.54675443,\n",
       "       -0.79374128,  0.765079  , -0.9856365 ,  0.88629248,  0.99011413])"
      ]
     },
     "execution_count": 121,
     "metadata": {},
     "output_type": "execute_result"
    }
   ],
   "source": [
    "guess"
   ]
  },
  {
   "cell_type": "code",
   "execution_count": 93,
   "metadata": {},
   "outputs": [],
   "source": [
    "def interpret(result):\n",
    "    return np.argmax(result)"
   ]
  },
  {
   "cell_type": "code",
   "execution_count": 122,
   "metadata": {},
   "outputs": [
    {
     "data": {
      "text/plain": [
       "1"
      ]
     },
     "execution_count": 122,
     "metadata": {},
     "output_type": "execute_result"
    }
   ],
   "source": [
    "interpret(guess)"
   ]
  },
  {
   "cell_type": "code",
   "execution_count": 96,
   "metadata": {},
   "outputs": [],
   "source": [
    "network.backward_pass(\n",
    "    network_input = x_train[0].flatten(),\n",
    "    network_output = guess, \n",
    "    expected_output = temp_y_train[0]\n",
    ")"
   ]
  },
  {
   "cell_type": "code",
   "execution_count": 153,
   "metadata": {
    "scrolled": true
   },
   "outputs": [
    {
     "data": {
      "application/vnd.jupyter.widget-view+json": {
       "model_id": "87cb2acd418d4f16bbfba91d6f15b350",
       "version_major": 2,
       "version_minor": 0
      },
      "text/plain": [
       "HBox(children=(IntProgress(value=0, description='Training', style=ProgressStyle(description_width='initial')),…"
      ]
     },
     "metadata": {},
     "output_type": "display_data"
    },
    {
     "name": "stdout",
     "output_type": "stream",
     "text": [
      "\n"
     ]
    },
    {
     "data": {
      "image/png": "[encoded data removed]",
      "text/plain": [
       "<Figure size 432x288 with 1 Axes>"
      ]
     },
     "metadata": {
      "needs_background": "light"
     },
     "output_type": "display_data"
    }
   ],
   "source": [
    "def train_test_network(epoch, train_start, train_end, test_start, test_end):\n",
    "    \n",
    "    #for i in tnrange(train_start, train_end, desc = 'Training epoch %i'% epoch):\n",
    "    for i in range(train_start, train_end):\n",
    "\n",
    "        output = network.forward_pass(x_train[i].flatten())\n",
    "        network.backward_pass(\n",
    "            network_input = x_train[i].flatten(),\n",
    "            network_output = output,\n",
    "            expected_output = temp_y_train[i]\n",
    "        )\n",
    "\n",
    "    \n",
    "    correct= 0\n",
    "    for i in range(test_start, test_end):\n",
    "    #for i in tnrange(test_start, test_end, desc='Testing epoch %i'% epoch):\n",
    "        \n",
    "        output = network.forward_pass(x_test[i].flatten())\n",
    "        \n",
    "        if interpret(output) == interpret(temp_y_test[i]):\n",
    "            correct += 1\n",
    "    accuracy = correct /(test_end - test_start)\n",
    "    return accuracy\n",
    "    \n",
    "accuracies = []\n",
    "num_epochs = 100\n",
    "plt.figure()\n",
    "for i in tnrange(num_epochs, desc=\"Training\"):\n",
    "    \n",
    "    train_start = i * int(len(x_train)/num_epochs)\n",
    "    train_end = (i+1) * int(len(x_train)/num_epochs)\n",
    "    test_start = i * int(len(x_test)/num_epochs)\n",
    "    test_end = (i+1) * int(len(x_test)/num_epochs)\n",
    "    \n",
    "    acc = train_test_network(\n",
    "        i,train_start, train_end, \n",
    "        test_start, test_end\n",
    "    )\n",
    "    accuracies.append(acc)\n",
    "\n",
    "plt.plot(accuracies)\n",
    "plt.show()\n"
   ]
  },
  {
   "cell_type": "code",
   "execution_count": 134,
   "metadata": {
    "scrolled": true
   },
   "outputs": [
    {
     "data": {
      "text/plain": [
       "<matplotlib.image.AxesImage at 0x7f1df2653210>"
      ]
     },
     "execution_count": 134,
     "metadata": {},
     "output_type": "execute_result"
    },
    {
     "data": {
      "image/png": "[encoded data removed]",
      "text/plain": [
       "<Figure size 432x288 with 1 Axes>"
      ]
     },
     "metadata": {
      "needs_background": "light"
     },
     "output_type": "display_data"
    }
   ],
   "source": [
    "plt.imshow(x_train[41])"
   ]
  },
  {
   "cell_type": "code",
   "execution_count": 140,
   "metadata": {},
   "outputs": [
    {
     "data": {
      "text/plain": [
       "array([-0.99769569, -0.99999842, -0.9999271 , -0.47610753, -0.99967914,\n",
       "       -0.9999308 , -0.99978127, -0.99752775, -0.99930675, -0.99991466])"
      ]
     },
     "execution_count": 140,
     "metadata": {},
     "output_type": "execute_result"
    }
   ],
   "source": [
    "(network.forward_pass(x_train[41].flatten()))"
   ]
  },
  {
   "cell_type": "code",
   "execution_count": 130,
   "metadata": {},
   "outputs": [
    {
     "data": {
      "image/png": "[encoded data removed]",
      "text/plain": [
       "<Figure size 432x288 with 1 Axes>"
      ]
     },
     "metadata": {
      "needs_background": "light"
     },
     "output_type": "display_data"
    }
   ],
   "source": [
    "plt.figure()\n",
    "\n",
    "for i in range(10):\n",
    "    plt.imshow(x_train[10+i])\n",
    "    plt.show()\n",
    "    fig.canvas.draw()\n",
    "    time.sleep(1)\n",
    "    clear_output(wait=True)\n",
    "    \n",
    "    \n"
   ]
  }
 ],
 "metadata": {
  "kernelspec": {
   "display_name": "Python 3",
   "language": "python",
   "name": "python3"
  },
  "language_info": {
   "codemirror_mode": {
    "name": "ipython",
    "version": 3
   },
   "file_extension": ".py",
   "mimetype": "text/x-python",
   "name": "python",
   "nbconvert_exporter": "python",
   "pygments_lexer": "ipython3",
   "version": "3.7.5rc1"
  }
 },
 "nbformat": 4,
 "nbformat_minor": 2
}
