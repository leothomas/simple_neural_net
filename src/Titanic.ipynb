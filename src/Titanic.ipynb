{
 "cells": [
  {
   "cell_type": "code",
   "execution_count": 1,
   "metadata": {},
   "outputs": [],
   "source": [
    "%matplotlib inline\n",
    "%load_ext autoreload\n",
    "%autoreload 2\n",
    "import numpy as np\n",
    "from matrix_neural_net import Network\n",
    "import matplotlib.pyplot as plt\n",
    "import pandas as pd\n",
    "from tqdm import tqdm\n",
    "# - clean up notebook, add comments\n",
    "# - implement some feature engineering: \n",
    "#     - create maritial status from \"Mr.\" or \"Mrs.\" in title\n",
    "#     - vectorize class?\n",
    "# - scale age and fare categories\n",
    "# - eventually ... \n",
    "#    - implement gridsearch for hyper-params \n",
    "#    - implement a genetic algorithm for hyper-params"
   ]
  },
  {
   "cell_type": "code",
   "execution_count": 2,
   "metadata": {},
   "outputs": [],
   "source": [
    "class TqdmUpdate(tqdm):\n",
    "     def update_to(self, b=1, bsize=1, tsize=None):\n",
    "        \"\"\"\n",
    "        b  : int, optional\n",
    "            Number of blocks transferred so far [default: 1].\n",
    "        bsize  : int, optional\n",
    "            Size of each block (in tqdm units) [default: 1].\n",
    "        tsize  : int, optional\n",
    "            Total size (in tqdm units). If [default: None] remains unchanged.\n",
    "        \"\"\"\n",
    "        if tsize is not None:\n",
    "            self.total = tsize\n",
    "        \n",
    "        self.update(b * bsize - self.n)  # will also set self.n = b * bsize\n"
   ]
  },
  {
   "cell_type": "code",
   "execution_count": 3,
   "metadata": {
    "scrolled": true
   },
   "outputs": [
    {
     "data": {
      "text/html": [
       "<div>\n",
       "<style scoped>\n",
       "    .dataframe tbody tr th:only-of-type {\n",
       "        vertical-align: middle;\n",
       "    }\n",
       "\n",
       "    .dataframe tbody tr th {\n",
       "        vertical-align: top;\n",
       "    }\n",
       "\n",
       "    .dataframe thead th {\n",
       "        text-align: right;\n",
       "    }\n",
       "</style>\n",
       "<table border=\"1\" class=\"dataframe\">\n",
       "  <thead>\n",
       "    <tr style=\"text-align: right;\">\n",
       "      <th></th>\n",
       "      <th>PassengerId</th>\n",
       "      <th>Survived</th>\n",
       "      <th>Pclass</th>\n",
       "      <th>Name</th>\n",
       "      <th>Sex</th>\n",
       "      <th>Age</th>\n",
       "      <th>SibSp</th>\n",
       "      <th>Parch</th>\n",
       "      <th>Ticket</th>\n",
       "      <th>Fare</th>\n",
       "      <th>Cabin</th>\n",
       "      <th>Embarked</th>\n",
       "    </tr>\n",
       "  </thead>\n",
       "  <tbody>\n",
       "    <tr>\n",
       "      <th>0</th>\n",
       "      <td>1</td>\n",
       "      <td>0</td>\n",
       "      <td>3</td>\n",
       "      <td>Braund, Mr. Owen Harris</td>\n",
       "      <td>male</td>\n",
       "      <td>22.0</td>\n",
       "      <td>1</td>\n",
       "      <td>0</td>\n",
       "      <td>A/5 21171</td>\n",
       "      <td>7.2500</td>\n",
       "      <td>NaN</td>\n",
       "      <td>S</td>\n",
       "    </tr>\n",
       "    <tr>\n",
       "      <th>1</th>\n",
       "      <td>2</td>\n",
       "      <td>1</td>\n",
       "      <td>1</td>\n",
       "      <td>Cumings, Mrs. John Bradley (Florence Briggs Th...</td>\n",
       "      <td>female</td>\n",
       "      <td>38.0</td>\n",
       "      <td>1</td>\n",
       "      <td>0</td>\n",
       "      <td>PC 17599</td>\n",
       "      <td>71.2833</td>\n",
       "      <td>C85</td>\n",
       "      <td>C</td>\n",
       "    </tr>\n",
       "    <tr>\n",
       "      <th>2</th>\n",
       "      <td>3</td>\n",
       "      <td>1</td>\n",
       "      <td>3</td>\n",
       "      <td>Heikkinen, Miss. Laina</td>\n",
       "      <td>female</td>\n",
       "      <td>26.0</td>\n",
       "      <td>0</td>\n",
       "      <td>0</td>\n",
       "      <td>STON/O2. 3101282</td>\n",
       "      <td>7.9250</td>\n",
       "      <td>NaN</td>\n",
       "      <td>S</td>\n",
       "    </tr>\n",
       "    <tr>\n",
       "      <th>3</th>\n",
       "      <td>4</td>\n",
       "      <td>1</td>\n",
       "      <td>1</td>\n",
       "      <td>Futrelle, Mrs. Jacques Heath (Lily May Peel)</td>\n",
       "      <td>female</td>\n",
       "      <td>35.0</td>\n",
       "      <td>1</td>\n",
       "      <td>0</td>\n",
       "      <td>113803</td>\n",
       "      <td>53.1000</td>\n",
       "      <td>C123</td>\n",
       "      <td>S</td>\n",
       "    </tr>\n",
       "    <tr>\n",
       "      <th>4</th>\n",
       "      <td>5</td>\n",
       "      <td>0</td>\n",
       "      <td>3</td>\n",
       "      <td>Allen, Mr. William Henry</td>\n",
       "      <td>male</td>\n",
       "      <td>35.0</td>\n",
       "      <td>0</td>\n",
       "      <td>0</td>\n",
       "      <td>373450</td>\n",
       "      <td>8.0500</td>\n",
       "      <td>NaN</td>\n",
       "      <td>S</td>\n",
       "    </tr>\n",
       "  </tbody>\n",
       "</table>\n",
       "</div>"
      ],
      "text/plain": [
       "   PassengerId  Survived  Pclass  \\\n",
       "0            1         0       3   \n",
       "1            2         1       1   \n",
       "2            3         1       3   \n",
       "3            4         1       1   \n",
       "4            5         0       3   \n",
       "\n",
       "                                                Name     Sex   Age  SibSp  \\\n",
       "0                            Braund, Mr. Owen Harris    male  22.0      1   \n",
       "1  Cumings, Mrs. John Bradley (Florence Briggs Th...  female  38.0      1   \n",
       "2                             Heikkinen, Miss. Laina  female  26.0      0   \n",
       "3       Futrelle, Mrs. Jacques Heath (Lily May Peel)  female  35.0      1   \n",
       "4                           Allen, Mr. William Henry    male  35.0      0   \n",
       "\n",
       "   Parch            Ticket     Fare Cabin Embarked  \n",
       "0      0         A/5 21171   7.2500   NaN        S  \n",
       "1      0          PC 17599  71.2833   C85        C  \n",
       "2      0  STON/O2. 3101282   7.9250   NaN        S  \n",
       "3      0            113803  53.1000  C123        S  \n",
       "4      0            373450   8.0500   NaN        S  "
      ]
     },
     "execution_count": 3,
     "metadata": {},
     "output_type": "execute_result"
    }
   ],
   "source": [
    "train_data = pd.read_csv('./data/titanic/train.csv')\n",
    "test_data = pd.read_csv('./data/titanic/test.csv')\n",
    "train_data.head()"
   ]
  },
  {
   "cell_type": "markdown",
   "metadata": {},
   "source": [
    "### Some notes: \n",
    "- Name is a string text, likely not helpful (although we may be able to use it to derive some info such as maritial status or professional status)\n",
    "- Ticket is also a string text, unless we can figure out what 'A/' and 'PC' and 'STON' mean, likely not very helpful\n",
    "- Cabin has a letter, this could indicate a class, possibly helpful, easy to convert to a numerical value\n",
    "- Embarked is a single letter, also easy to convert to a numerical value"
   ]
  },
  {
   "cell_type": "code",
   "execution_count": 4,
   "metadata": {},
   "outputs": [
    {
     "data": {
      "text/plain": [
       "PassengerId      0\n",
       "Survived         0\n",
       "Pclass           0\n",
       "Name             0\n",
       "Sex              0\n",
       "Age            177\n",
       "SibSp            0\n",
       "Parch            0\n",
       "Ticket           0\n",
       "Fare             0\n",
       "Cabin          687\n",
       "Embarked         2\n",
       "dtype: int64"
      ]
     },
     "execution_count": 4,
     "metadata": {},
     "output_type": "execute_result"
    }
   ],
   "source": [
    "train_data.apply(pd.Series.isnull).sum(axis=0)"
   ]
  },
  {
   "cell_type": "code",
   "execution_count": 5,
   "metadata": {
    "scrolled": true
   },
   "outputs": [
    {
     "data": {
      "text/plain": [
       "0    577\n",
       "1    314\n",
       "Name: Sex, dtype: int64"
      ]
     },
     "execution_count": 5,
     "metadata": {},
     "output_type": "execute_result"
    }
   ],
   "source": [
    "# no missing data, convert to binary\n",
    "train_data.Sex = train_data.Sex.map({'male': 0, 'female':1})\n",
    "train_data.Sex.value_counts()"
   ]
  },
  {
   "cell_type": "code",
   "execution_count": 6,
   "metadata": {
    "scrolled": true
   },
   "outputs": [
    {
     "data": {
      "text/plain": [
       "S      644\n",
       "C      168\n",
       "Q       77\n",
       "NaN      2\n",
       "Name: Embarked, dtype: int64"
      ]
     },
     "execution_count": 6,
     "metadata": {},
     "output_type": "execute_result"
    }
   ],
   "source": [
    "# 2 entries without Embarked. First lets see if its a usefull feature\n",
    "train_data.Embarked.value_counts(dropna=False)"
   ]
  },
  {
   "cell_type": "code",
   "execution_count": 7,
   "metadata": {},
   "outputs": [
    {
     "data": {
      "text/html": [
       "<div>\n",
       "<style scoped>\n",
       "    .dataframe tbody tr th:only-of-type {\n",
       "        vertical-align: middle;\n",
       "    }\n",
       "\n",
       "    .dataframe tbody tr th {\n",
       "        vertical-align: top;\n",
       "    }\n",
       "\n",
       "    .dataframe thead th {\n",
       "        text-align: right;\n",
       "    }\n",
       "</style>\n",
       "<table border=\"1\" class=\"dataframe\">\n",
       "  <thead>\n",
       "    <tr style=\"text-align: right;\">\n",
       "      <th></th>\n",
       "      <th>Embarked</th>\n",
       "      <th>Survived</th>\n",
       "    </tr>\n",
       "  </thead>\n",
       "  <tbody>\n",
       "    <tr>\n",
       "      <th>0</th>\n",
       "      <td>C</td>\n",
       "      <td>0.553571</td>\n",
       "    </tr>\n",
       "    <tr>\n",
       "      <th>1</th>\n",
       "      <td>Q</td>\n",
       "      <td>0.389610</td>\n",
       "    </tr>\n",
       "    <tr>\n",
       "      <th>2</th>\n",
       "      <td>S</td>\n",
       "      <td>0.336957</td>\n",
       "    </tr>\n",
       "  </tbody>\n",
       "</table>\n",
       "</div>"
      ],
      "text/plain": [
       "  Embarked  Survived\n",
       "0        C  0.553571\n",
       "1        Q  0.389610\n",
       "2        S  0.336957"
      ]
     },
     "execution_count": 7,
     "metadata": {},
     "output_type": "execute_result"
    }
   ],
   "source": [
    "# Check correlation with Surival\n",
    "train_data[['Embarked', 'Survived']].groupby(['Embarked'], as_index=False).mean()"
   ]
  },
  {
   "cell_type": "code",
   "execution_count": 8,
   "metadata": {},
   "outputs": [
    {
     "data": {
      "text/plain": [
       "S    646\n",
       "C    168\n",
       "Q     77\n",
       "Name: Embarked, dtype: int64"
      ]
     },
     "execution_count": 8,
     "metadata": {},
     "output_type": "execute_result"
    }
   ],
   "source": [
    "# replace all missing instances of embarked with S which is by the far the most popular category\n",
    "train_data.Embarked.fillna(train_data['Embarked'].mode()[0], inplace=True)\n",
    "train_data.Embarked.value_counts()"
   ]
  },
  {
   "cell_type": "code",
   "execution_count": 9,
   "metadata": {},
   "outputs": [
    {
     "data": {
      "text/plain": [
       "0    646\n",
       "1    168\n",
       "2     77\n",
       "Name: Embarked, dtype: int64"
      ]
     },
     "execution_count": 9,
     "metadata": {},
     "output_type": "execute_result"
    }
   ],
   "source": [
    "# Map values\n",
    "train_data.Embarked = train_data.Embarked.map({'S':0, 'C':1, 'Q':2})\n",
    "train_data.Embarked.value_counts()"
   ]
  },
  {
   "cell_type": "code",
   "execution_count": 10,
   "metadata": {
    "scrolled": true
   },
   "outputs": [
    {
     "data": {
      "text/plain": [
       "3    491\n",
       "1    216\n",
       "2    184\n",
       "Name: Pclass, dtype: int64"
      ]
     },
     "execution_count": 10,
     "metadata": {},
     "output_type": "execute_result"
    }
   ],
   "source": [
    "# Notice that class is a discrete variable [1, 3]\n",
    "# Apply a transform to reframe this to a range [0, 2]\n",
    "train_data['Pclass'].value_counts(dropna=False)"
   ]
  },
  {
   "cell_type": "code",
   "execution_count": 11,
   "metadata": {},
   "outputs": [
    {
     "data": {
      "text/plain": [
       "2    491\n",
       "0    216\n",
       "1    184\n",
       "Name: Pclass, dtype: int64"
      ]
     },
     "execution_count": 11,
     "metadata": {},
     "output_type": "execute_result"
    }
   ],
   "source": [
    "train_data.Pclass = train_data.Pclass.apply(lambda x : x-1)\n",
    "train_data.Pclass.value_counts(dropna=False)"
   ]
  },
  {
   "cell_type": "code",
   "execution_count": 12,
   "metadata": {
    "scrolled": true
   },
   "outputs": [
    {
     "data": {
      "text/plain": [
       "PassengerId      0\n",
       "Survived         0\n",
       "Pclass           0\n",
       "Name             0\n",
       "Sex              0\n",
       "Age            177\n",
       "SibSp            0\n",
       "Parch            0\n",
       "Ticket           0\n",
       "Fare             0\n",
       "Cabin          687\n",
       "Embarked         0\n",
       "dtype: int64"
      ]
     },
     "execution_count": 12,
     "metadata": {},
     "output_type": "execute_result"
    }
   ],
   "source": [
    "train_data.apply(pd.Series.isnull).sum(axis=0)"
   ]
  },
  {
   "cell_type": "code",
   "execution_count": 13,
   "metadata": {},
   "outputs": [],
   "source": [
    "# For missing data in Age:\n",
    "# OPTION 1: drop all rows with missing data\n",
    "#train_data.dropna(axis=0, how=\"any\", inplace=True)\n",
    "#train_data.reset_index(drop=True, inplace=True)\n",
    "# OPTION 2: drop all columns with missing data (Age)\n",
    "#train_data.dropna(axis=1, how=\"any\", inplace=True)\n",
    "# OPTION 3: replace missing values with a set value. \n",
    "# This will cause some noise, but hopefully the network will be able to deal with it. \n",
    "# Especially since age dosn't have a very strong correlation with survival rate\n",
    "#train_data.Age.fillna(train_data.Age.median(), inplace=True)\n",
    "\n",
    "# Replace age with the median age of each Passenger class, since pclass had the highest correlation with Age \n",
    "age_pclass_map = train_data[['Pclass', 'Age']].groupby(['Pclass'],as_index=False).median()\n",
    "\n",
    "train_data.Age = train_data.apply(\n",
    "    lambda row: age_pclass_map.loc[row['Pclass'], 'Age'] if np.isnan(row['Age']) else row['Age'], axis=1\n",
    ")\n"
   ]
  },
  {
   "cell_type": "code",
   "execution_count": 14,
   "metadata": {},
   "outputs": [
    {
     "data": {
      "text/plain": [
       "0"
      ]
     },
     "execution_count": 14,
     "metadata": {},
     "output_type": "execute_result"
    }
   ],
   "source": [
    "# Verify Age no longer contains any null values\n",
    "train_data.Age.isnull().sum()"
   ]
  },
  {
   "cell_type": "markdown",
   "metadata": {},
   "source": [
    "We now have to: \n",
    "1. Drop Cabin, Name, Ticket (eventually extract useful info from Name and Ticket)"
   ]
  },
  {
   "cell_type": "code",
   "execution_count": 15,
   "metadata": {
    "scrolled": false
   },
   "outputs": [
    {
     "data": {
      "text/html": [
       "<div>\n",
       "<style scoped>\n",
       "    .dataframe tbody tr th:only-of-type {\n",
       "        vertical-align: middle;\n",
       "    }\n",
       "\n",
       "    .dataframe tbody tr th {\n",
       "        vertical-align: top;\n",
       "    }\n",
       "\n",
       "    .dataframe thead th {\n",
       "        text-align: right;\n",
       "    }\n",
       "</style>\n",
       "<table border=\"1\" class=\"dataframe\">\n",
       "  <thead>\n",
       "    <tr style=\"text-align: right;\">\n",
       "      <th></th>\n",
       "      <th>Age</th>\n",
       "      <th>Survived</th>\n",
       "      <th>Pclass</th>\n",
       "      <th>Sex</th>\n",
       "      <th>SibSp</th>\n",
       "      <th>Parch</th>\n",
       "      <th>Fare</th>\n",
       "      <th>Embarked</th>\n",
       "    </tr>\n",
       "  </thead>\n",
       "  <tbody>\n",
       "    <tr>\n",
       "      <th>0</th>\n",
       "      <td>22.0</td>\n",
       "      <td>0</td>\n",
       "      <td>2</td>\n",
       "      <td>0</td>\n",
       "      <td>1</td>\n",
       "      <td>0</td>\n",
       "      <td>7.2500</td>\n",
       "      <td>0</td>\n",
       "    </tr>\n",
       "    <tr>\n",
       "      <th>1</th>\n",
       "      <td>38.0</td>\n",
       "      <td>1</td>\n",
       "      <td>0</td>\n",
       "      <td>1</td>\n",
       "      <td>1</td>\n",
       "      <td>0</td>\n",
       "      <td>71.2833</td>\n",
       "      <td>1</td>\n",
       "    </tr>\n",
       "    <tr>\n",
       "      <th>2</th>\n",
       "      <td>26.0</td>\n",
       "      <td>1</td>\n",
       "      <td>2</td>\n",
       "      <td>1</td>\n",
       "      <td>0</td>\n",
       "      <td>0</td>\n",
       "      <td>7.9250</td>\n",
       "      <td>0</td>\n",
       "    </tr>\n",
       "    <tr>\n",
       "      <th>3</th>\n",
       "      <td>35.0</td>\n",
       "      <td>1</td>\n",
       "      <td>0</td>\n",
       "      <td>1</td>\n",
       "      <td>1</td>\n",
       "      <td>0</td>\n",
       "      <td>53.1000</td>\n",
       "      <td>0</td>\n",
       "    </tr>\n",
       "    <tr>\n",
       "      <th>4</th>\n",
       "      <td>35.0</td>\n",
       "      <td>0</td>\n",
       "      <td>2</td>\n",
       "      <td>0</td>\n",
       "      <td>0</td>\n",
       "      <td>0</td>\n",
       "      <td>8.0500</td>\n",
       "      <td>0</td>\n",
       "    </tr>\n",
       "  </tbody>\n",
       "</table>\n",
       "</div>"
      ],
      "text/plain": [
       "    Age  Survived  Pclass  Sex  SibSp  Parch     Fare  Embarked\n",
       "0  22.0         0       2    0      1      0   7.2500         0\n",
       "1  38.0         1       0    1      1      0  71.2833         1\n",
       "2  26.0         1       2    1      0      0   7.9250         0\n",
       "3  35.0         1       0    1      1      0  53.1000         0\n",
       "4  35.0         0       2    0      0      0   8.0500         0"
      ]
     },
     "execution_count": 15,
     "metadata": {},
     "output_type": "execute_result"
    }
   ],
   "source": [
    "# Now that we have converted Sex and Embarked columns to numerical \n",
    "# values, we are going to drop the columns that we don't want to \n",
    "# use: \"Name\", \"Ticket\", \"Cabin\", \"PassengerId\", \"Age\"\n",
    "train_data = train_data[['Age', 'Survived', 'Pclass', 'Sex', 'SibSp', 'Parch', 'Fare', 'Embarked']]\n",
    "train_data.head()"
   ]
  },
  {
   "cell_type": "code",
   "execution_count": 16,
   "metadata": {},
   "outputs": [
    {
     "data": {
      "text/plain": [
       "Age         0\n",
       "Survived    0\n",
       "Pclass      0\n",
       "Sex         0\n",
       "SibSp       0\n",
       "Parch       0\n",
       "Fare        0\n",
       "Embarked    0\n",
       "dtype: int64"
      ]
     },
     "execution_count": 16,
     "metadata": {},
     "output_type": "execute_result"
    }
   ],
   "source": [
    "train_data.apply(pd.Series.isnull).sum(axis=0)"
   ]
  },
  {
   "cell_type": "code",
   "execution_count": 17,
   "metadata": {
    "scrolled": true
   },
   "outputs": [
    {
     "name": "stdout",
     "output_type": "stream",
     "text": [
      "Age\n",
      "24.00    166\n",
      "37.00     36\n",
      "29.00     31\n",
      "22.00     27\n",
      "18.00     26\n",
      "        ... \n",
      "36.50      1\n",
      "70.50      1\n",
      "55.50      1\n",
      "23.50      1\n",
      "0.42       1\n",
      "Name: Age, Length: 88, dtype: int64\n",
      "\n",
      "\n",
      "Survived\n",
      "0    549\n",
      "1    342\n",
      "Name: Survived, dtype: int64\n",
      "\n",
      "\n",
      "Pclass\n",
      "2    491\n",
      "0    216\n",
      "1    184\n",
      "Name: Pclass, dtype: int64\n",
      "\n",
      "\n",
      "Sex\n",
      "0    577\n",
      "1    314\n",
      "Name: Sex, dtype: int64\n",
      "\n",
      "\n",
      "SibSp\n",
      "0    608\n",
      "1    209\n",
      "2     28\n",
      "4     18\n",
      "3     16\n",
      "8      7\n",
      "5      5\n",
      "Name: SibSp, dtype: int64\n",
      "\n",
      "\n",
      "Parch\n",
      "0    678\n",
      "1    118\n",
      "2     80\n",
      "5      5\n",
      "3      5\n",
      "4      4\n",
      "6      1\n",
      "Name: Parch, dtype: int64\n",
      "\n",
      "\n",
      "Fare\n",
      "8.0500     43\n",
      "13.0000    42\n",
      "7.8958     38\n",
      "7.7500     34\n",
      "26.0000    31\n",
      "           ..\n",
      "8.4583      1\n",
      "9.8375      1\n",
      "8.3625      1\n",
      "14.1083     1\n",
      "17.4000     1\n",
      "Name: Fare, Length: 248, dtype: int64\n",
      "\n",
      "\n",
      "Embarked\n",
      "0    646\n",
      "1    168\n",
      "2     77\n",
      "Name: Embarked, dtype: int64\n",
      "\n",
      "\n"
     ]
    }
   ],
   "source": [
    "for col in train_data.columns: \n",
    "    print (col)\n",
    "    print (train_data[col].value_counts())\n",
    "    print (\"\\n\")"
   ]
  },
  {
   "cell_type": "code",
   "execution_count": 18,
   "metadata": {
    "scrolled": true
   },
   "outputs": [
    {
     "data": {
      "text/plain": [
       "<matplotlib.axes._subplots.AxesSubplot at 0x7f69ddaa3650>"
      ]
     },
     "execution_count": 18,
     "metadata": {},
     "output_type": "execute_result"
    },
    {
     "data": {
      "image/png": "[encoded data removed]",
      "text/plain": [
       "<Figure size 432x288 with 1 Axes>"
      ]
     },
     "metadata": {
      "needs_background": "light"
     },
     "output_type": "display_data"
    }
   ],
   "source": [
    "train_data.Age.hist(bins=20)"
   ]
  },
  {
   "cell_type": "code",
   "execution_count": 19,
   "metadata": {},
   "outputs": [],
   "source": [
    "# Age generally follows a gaussian distribution. We will standardize it as follows:\n",
    "mu, std = train_data.Age.describe()['mean'], train_data.Age.describe()['std']\n",
    "train_data.Age = train_data.Age.apply(lambda x: (x-mu)/std)"
   ]
  },
  {
   "cell_type": "code",
   "execution_count": 20,
   "metadata": {
    "scrolled": false
   },
   "outputs": [
    {
     "data": {
      "text/plain": [
       "<matplotlib.axes._subplots.AxesSubplot at 0x7f69db9ace50>"
      ]
     },
     "execution_count": 20,
     "metadata": {},
     "output_type": "execute_result"
    },
    {
     "data": {
      "image/png": "[encoded data removed]",
      "text/plain": [
       "<Figure size 432x288 with 1 Axes>"
      ]
     },
     "metadata": {
      "needs_background": "light"
     },
     "output_type": "display_data"
    }
   ],
   "source": [
    "train_data.Fare.hist(bins=20)\n",
    "# This is also the case for SibSp and Parch"
   ]
  },
  {
   "cell_type": "code",
   "execution_count": 21,
   "metadata": {},
   "outputs": [],
   "source": [
    "# Fare, SibSp and Parch will be normalized using: x-min/(max-min)\n",
    "for col in ['Fare', 'SibSp', 'Parch']:\n",
    "    col_min, col_max = train_data[col].describe()['min'], train_data[col].describe()['max']\n",
    "    train_data[col] = train_data[col].apply(lambda x: (x-col_min)/(col_max - col_min))\n",
    "    "
   ]
  },
  {
   "cell_type": "code",
   "execution_count": 22,
   "metadata": {},
   "outputs": [
    {
     "data": {
      "text/html": [
       "<div>\n",
       "<style scoped>\n",
       "    .dataframe tbody tr th:only-of-type {\n",
       "        vertical-align: middle;\n",
       "    }\n",
       "\n",
       "    .dataframe tbody tr th {\n",
       "        vertical-align: top;\n",
       "    }\n",
       "\n",
       "    .dataframe thead th {\n",
       "        text-align: right;\n",
       "    }\n",
       "</style>\n",
       "<table border=\"1\" class=\"dataframe\">\n",
       "  <thead>\n",
       "    <tr style=\"text-align: right;\">\n",
       "      <th></th>\n",
       "      <th>Age</th>\n",
       "      <th>Survived</th>\n",
       "      <th>Pclass</th>\n",
       "      <th>Sex</th>\n",
       "      <th>SibSp</th>\n",
       "      <th>Parch</th>\n",
       "      <th>Fare</th>\n",
       "      <th>Embarked</th>\n",
       "    </tr>\n",
       "  </thead>\n",
       "  <tbody>\n",
       "    <tr>\n",
       "      <th>Age</th>\n",
       "      <td>1.000000</td>\n",
       "      <td>-0.047255</td>\n",
       "      <td>-0.408487</td>\n",
       "      <td>-0.078421</td>\n",
       "      <td>-0.243526</td>\n",
       "      <td>-0.171095</td>\n",
       "      <td>0.123784</td>\n",
       "      <td>-0.047172</td>\n",
       "    </tr>\n",
       "    <tr>\n",
       "      <th>Survived</th>\n",
       "      <td>-0.047255</td>\n",
       "      <td>1.000000</td>\n",
       "      <td>-0.338481</td>\n",
       "      <td>0.543351</td>\n",
       "      <td>-0.035322</td>\n",
       "      <td>0.081629</td>\n",
       "      <td>0.257307</td>\n",
       "      <td>0.106811</td>\n",
       "    </tr>\n",
       "    <tr>\n",
       "      <th>Pclass</th>\n",
       "      <td>-0.408487</td>\n",
       "      <td>-0.338481</td>\n",
       "      <td>1.000000</td>\n",
       "      <td>-0.131900</td>\n",
       "      <td>0.083081</td>\n",
       "      <td>0.018443</td>\n",
       "      <td>-0.549500</td>\n",
       "      <td>0.045702</td>\n",
       "    </tr>\n",
       "    <tr>\n",
       "      <th>Sex</th>\n",
       "      <td>-0.078421</td>\n",
       "      <td>0.543351</td>\n",
       "      <td>-0.131900</td>\n",
       "      <td>1.000000</td>\n",
       "      <td>0.114631</td>\n",
       "      <td>0.245489</td>\n",
       "      <td>0.182333</td>\n",
       "      <td>0.116569</td>\n",
       "    </tr>\n",
       "    <tr>\n",
       "      <th>SibSp</th>\n",
       "      <td>-0.243526</td>\n",
       "      <td>-0.035322</td>\n",
       "      <td>0.083081</td>\n",
       "      <td>0.114631</td>\n",
       "      <td>1.000000</td>\n",
       "      <td>0.414838</td>\n",
       "      <td>0.159651</td>\n",
       "      <td>-0.059961</td>\n",
       "    </tr>\n",
       "    <tr>\n",
       "      <th>Parch</th>\n",
       "      <td>-0.171095</td>\n",
       "      <td>0.081629</td>\n",
       "      <td>0.018443</td>\n",
       "      <td>0.245489</td>\n",
       "      <td>0.414838</td>\n",
       "      <td>1.000000</td>\n",
       "      <td>0.216225</td>\n",
       "      <td>-0.078665</td>\n",
       "    </tr>\n",
       "    <tr>\n",
       "      <th>Fare</th>\n",
       "      <td>0.123784</td>\n",
       "      <td>0.257307</td>\n",
       "      <td>-0.549500</td>\n",
       "      <td>0.182333</td>\n",
       "      <td>0.159651</td>\n",
       "      <td>0.216225</td>\n",
       "      <td>1.000000</td>\n",
       "      <td>0.062142</td>\n",
       "    </tr>\n",
       "    <tr>\n",
       "      <th>Embarked</th>\n",
       "      <td>-0.047172</td>\n",
       "      <td>0.106811</td>\n",
       "      <td>0.045702</td>\n",
       "      <td>0.116569</td>\n",
       "      <td>-0.059961</td>\n",
       "      <td>-0.078665</td>\n",
       "      <td>0.062142</td>\n",
       "      <td>1.000000</td>\n",
       "    </tr>\n",
       "  </tbody>\n",
       "</table>\n",
       "</div>"
      ],
      "text/plain": [
       "               Age  Survived    Pclass       Sex     SibSp     Parch  \\\n",
       "Age       1.000000 -0.047255 -0.408487 -0.078421 -0.243526 -0.171095   \n",
       "Survived -0.047255  1.000000 -0.338481  0.543351 -0.035322  0.081629   \n",
       "Pclass   -0.408487 -0.338481  1.000000 -0.131900  0.083081  0.018443   \n",
       "Sex      -0.078421  0.543351 -0.131900  1.000000  0.114631  0.245489   \n",
       "SibSp    -0.243526 -0.035322  0.083081  0.114631  1.000000  0.414838   \n",
       "Parch    -0.171095  0.081629  0.018443  0.245489  0.414838  1.000000   \n",
       "Fare      0.123784  0.257307 -0.549500  0.182333  0.159651  0.216225   \n",
       "Embarked -0.047172  0.106811  0.045702  0.116569 -0.059961 -0.078665   \n",
       "\n",
       "              Fare  Embarked  \n",
       "Age       0.123784 -0.047172  \n",
       "Survived  0.257307  0.106811  \n",
       "Pclass   -0.549500  0.045702  \n",
       "Sex       0.182333  0.116569  \n",
       "SibSp     0.159651 -0.059961  \n",
       "Parch     0.216225 -0.078665  \n",
       "Fare      1.000000  0.062142  \n",
       "Embarked  0.062142  1.000000  "
      ]
     },
     "execution_count": 22,
     "metadata": {},
     "output_type": "execute_result"
    }
   ],
   "source": [
    "# Notice that Sex, Class and Fare have the strongest correlation with survival\n",
    "train_data.corr()"
   ]
  },
  {
   "cell_type": "code",
   "execution_count": 23,
   "metadata": {},
   "outputs": [
    {
     "data": {
      "text/plain": [
       "0    549\n",
       "1    342\n",
       "Name: Survived, dtype: int64"
      ]
     },
     "execution_count": 23,
     "metadata": {},
     "output_type": "execute_result"
    }
   ],
   "source": [
    "# More people perished than survived in our data set\n",
    "train_data['Survived'].value_counts()"
   ]
  },
  {
   "cell_type": "code",
   "execution_count": 24,
   "metadata": {},
   "outputs": [
    {
     "name": "stdout",
     "output_type": "stream",
     "text": [
      "0.62%\n"
     ]
    }
   ],
   "source": [
    "# most basic model: always predict perish\n",
    "# this method would have a success rate of ~60% \n",
    "# this will become the minimum accuracy for my \n",
    "# model to be considered functional. This will \n",
    "# also become of the accuracy of my model if \n",
    "# I encounter any vanishing/exploding gradient \n",
    "# issues\n",
    "print (\"%.2f%%\" %(train_data['Survived'].value_counts()[0]/len(train_data)))"
   ]
  },
  {
   "cell_type": "code",
   "execution_count": 25,
   "metadata": {},
   "outputs": [],
   "source": [
    "# next step is to OHE discrete variables (sex is a discrete variable, but its binary, so we can leave it as is)\n",
    "# These are: Pclass, Embarked\n",
    "\n",
    "to_hot_encode =['Pclass', 'Embarked']\n",
    "# calculate this one in order to avoid recalculating \n",
    "# unique values for each column\n",
    "unique = { col: train_data[col].unique() for col in to_hot_encode }\n",
    "\n",
    "def one_hot_encode(value, unique):\n",
    "    ret = np.zeros(np.max(unique)+1)\n",
    "    ret[value] = 1 # subt\n",
    "    return list(ret)\n",
    "\n",
    "def prep_input_vector(row):\n",
    "    inp = list(row[['Age','Sex','Fare', 'Parch', 'SibSp']])\n",
    "    \n",
    "    for col in to_hot_encode:\n",
    "        enc = one_hot_encode(int(row[[col]]), unique[col])\n",
    "        inp.extend(enc)\n",
    "    \n",
    "    return inp"
   ]
  },
  {
   "cell_type": "code",
   "execution_count": 31,
   "metadata": {
    "scrolled": true
   },
   "outputs": [
    {
     "name": "stdout",
     "output_type": "stream",
     "text": [
      "Original data: \n",
      " Age         0.674512\n",
      "Survived    1.000000\n",
      "Pclass      0.000000\n",
      "Sex         1.000000\n",
      "SibSp       0.125000\n",
      "Parch       0.000000\n",
      "Fare        0.139136\n",
      "Embarked    1.000000\n",
      "Name: 1, dtype: float64\n",
      "Prepped for NN input:  [0.6745116835213326, 1.0, 0.13913573538264068, 0.0, 0.125, 1.0, 0.0, 0.0, 0.0, 1.0, 0.0]\n",
      "Network prediction: [0.53358093 0.46641907]; expected: [0.0, 1.0]\n"
     ]
    }
   ],
   "source": [
    "network_params = {\n",
    "    'shape': [11, 8, 8, 2 ],\n",
    "    'activation': 'tanh',\n",
    "    'output_activation': 'sigmoid',\n",
    "    'learning_rate': 0.01,\n",
    "    'loss': 'cross_entropy'\n",
    "}\n",
    "network = Network(**network_params)\n",
    "test_input = prep_input_vector(train_data.iloc[1])\n",
    "print (\"Original data: \\n\", train_data.iloc[1])\n",
    "print (\"Prepped for NN input: \", prep_input_vector(train_data.iloc[1]))\n",
    "\n",
    "guess = network.forward_pass(test_input)\n",
    "expected_output = one_hot_encode(train_data.loc[1, 'Survived'], [0,1])\n",
    "print (\"Network prediction: %s; expected: %s\" % ( str(guess), str(expected_output)))\n",
    "\n",
    "\n",
    "# verity that the backwards pass works\n",
    "network.backward_pass(\n",
    "    network_input = test_input, \n",
    "    network_output = guess, \n",
    "    expected_output = expected_output\n",
    ")"
   ]
  },
  {
   "cell_type": "code",
   "execution_count": 32,
   "metadata": {},
   "outputs": [],
   "source": [
    "X = [prep_input_vector(train_data.iloc[i]) for i in train_data.index]\n",
    "y = [one_hot_encode(train_data.loc[i, 'Survived'], [0,1]) for i in train_data.index]"
   ]
  },
  {
   "cell_type": "code",
   "execution_count": 37,
   "metadata": {},
   "outputs": [
    {
     "name": "stderr",
     "output_type": "stream",
     "text": [
      "712it [00:02, 250.37it/s]                         "
     ]
    },
    {
     "name": "stdout",
     "output_type": "stream",
     "text": [
      "Train acc: 0.7700 - Test acc: 0.8258\n"
     ]
    },
    {
     "name": "stderr",
     "output_type": "stream",
     "text": [
      "\n"
     ]
    }
   ],
   "source": [
    "network_params = {\n",
    "    'shape': [11, 100, 100, 20, 2],\n",
    "    'activation': 'tanh',\n",
    "    'output_activation': 'sigmoid',\n",
    "    'loss': 'cross_entropy',\n",
    "    'learning_rate': 0.01\n",
    "}\n",
    "network = Network(**network_params)\n",
    "\n",
    "with TqdmUpdate() as t: \n",
    "    training_accuracy, testing_accuracy = network.train_test(X, y, test_split=0.2, progress=t.update_to)\n",
    "\n",
    "print (\"Train acc: %.4f - Test acc: %.4f\" %(training_accuracy, testing_accuracy))"
   ]
  },
  {
   "cell_type": "code",
   "execution_count": 38,
   "metadata": {},
   "outputs": [
    {
     "name": "stderr",
     "output_type": "stream",
     "text": [
      " 98%|█████████▊| 49/50 [01:45<00:02,  2.16s/it]\n"
     ]
    },
    {
     "data": {
      "image/png": "[encoded data removed]",
      "text/plain": [
       "<Figure size 432x288 with 1 Axes>"
      ]
     },
     "metadata": {
      "needs_background": "light"
     },
     "output_type": "display_data"
    }
   ],
   "source": [
    "network = Network(**network_params)\n",
    "with TqdmUpdate() as t: \n",
    "    training_accuracies, testing_accuracies = network.train_test_minibatch(\n",
    "        X,y, test_split=0.2, batch_size=32, epochs=50, progress=t.update_to)\n",
    "    \n",
    "plt.plot(training_accuracies, label=\"Training\")\n",
    "plt.plot(testing_accuracies, label=\"Testing\")\n",
    "plt.legend()\n",
    "plt.show()\n"
   ]
  },
  {
   "cell_type": "code",
   "execution_count": 30,
   "metadata": {},
   "outputs": [],
   "source": [
    "shapes = [[11, 6, 1], [11, 12, 6, 1], [11, 24, 12, 1]]\n",
    "activations = ['tanh', 'sigmoid', 'relu']\n",
    "output_activations = ['sigmoid', 'relu']\n",
    "learning_rates = [0.4, 0.1, 0.025]\n",
    "possible_params = []\n",
    "for shape in shapes:\n",
    "    for activation in activations:\n",
    "        for output_activation in output_activations: \n",
    "            for learning_rate in learning_rates:\n",
    "                possible_params.append({\n",
    "                    'shape': shape, \n",
    "                    'activation': activation,\n",
    "                    'output_activation': output_activation,\n",
    "                    'learning_rate': learning_rate\n",
    "                })"
   ]
  },
  {
   "cell_type": "code",
   "execution_count": 31,
   "metadata": {
    "scrolled": true
   },
   "outputs": [],
   "source": [
    "# opt_ts = 0\n",
    "# opt_params = {}\n",
    "# for i in tnrange(len(possible_params)): \n",
    "#     params = possible_params[i]\n",
    "#     tr, ts, _ = train_test(params, train_data, test_split=0.2)\n",
    "#     if ts > opt_ts:\n",
    "#         opt_ts = ts\n",
    "#         opt_params = params\n",
    "    "
   ]
  },
  {
   "cell_type": "code",
   "execution_count": 32,
   "metadata": {
    "scrolled": true
   },
   "outputs": [],
   "source": [
    "# print (\"Optimal paramters\", opt_params)\n",
    "# print(\"Testing accuracy using above params: %.4f\" % opt_ts)"
   ]
  },
  {
   "cell_type": "code",
   "execution_count": 33,
   "metadata": {},
   "outputs": [],
   "source": [
    "# tr, ts, _ = kfold(opt_params, 10)\n",
    "# print (\"KFold validation - Training Accuracy: %.4f, Testing Accuracy: %.4f\" %(tr, ts))"
   ]
  }
 ],
 "metadata": {
  "kernelspec": {
   "display_name": "Python 3",
   "language": "python",
   "name": "python3"
  },
  "language_info": {
   "codemirror_mode": {
    "name": "ipython",
    "version": 3
   },
   "file_extension": ".py",
   "mimetype": "text/x-python",
   "name": "python",
   "nbconvert_exporter": "python",
   "pygments_lexer": "ipython3",
   "version": "3.7.5"
  }
 },
 "nbformat": 4,
 "nbformat_minor": 2
}
