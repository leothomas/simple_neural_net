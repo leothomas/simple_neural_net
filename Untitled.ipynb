{
 "cells": [
  {
   "cell_type": "code",
   "execution_count": 14,
   "metadata": {},
   "outputs": [
    {
     "name": "stdout",
     "output_type": "stream",
     "text": [
      "The autoreload extension is already loaded. To reload it, use:\n",
      "  %reload_ext autoreload\n"
     ]
    }
   ],
   "source": [
    "%load_ext autoreload\n",
    "%autoreload 2\n",
    "import numpy as np\n",
    "from mnist import MNIST\n",
    "import random\n",
    "from progress.bar import Bar\n",
    "from simple_neural_net import Network\n",
    "import matplotlib.pyplot as plt\n",
    "from ipywidgets import IntProgress\n",
    "from IPython.display import display\n",
    "\n"
   ]
  },
  {
   "cell_type": "code",
   "execution_count": 16,
   "metadata": {},
   "outputs": [],
   "source": [
    "def train_test_SIN(network, num_passes=500):\n",
    "    test_train_ratio = 0.1\n",
    "    bar = Bar('Training', max=num_passes)\n",
    "    for _ in range(num_passes):\n",
    "        x = np.random.uniform(0, 2*np.pi)\n",
    "        network.forward_pass([x])\n",
    "        network.backwards_pass([np.sin(x)])\n",
    "        bar.next()\n",
    "    bar.finish()\n",
    "\n",
    "    error = 0.0\n",
    "    # # bar = Bar('Training', max=int(num_passes*test_train_ratio))\n",
    "    for _ in range(int(num_passes * test_train_ratio)):\n",
    "        x = np.random.uniform(0, 2*np.pi)\n",
    "        network.forward_pass([x])\n",
    "        # print (\"\\n\")\n",
    "        # print (\"Input value: %.2f\" % x)\n",
    "        # print (\"Expected Value: %.2f, Actual value: %.2f\" %\n",
    "        #       (np.sin(x), network.output_layer[0].activation))\n",
    "        error += np.sqrt((network.output_layer[0].activation - np.sin(x))**2)\n",
    "        # bar.next()\n",
    "    # bar.finish()\n",
    "\n",
    "    print(\"Average error:%.2f percent\" %\n",
    "          ((error/(num_passes*test_train_ratio))*100))\n",
    "    return error / (num_passes*test_train_ratio)\n"
   ]
  },
  {
   "cell_type": "code",
   "execution_count": 2,
   "metadata": {},
   "outputs": [],
   "source": [
    "network = Network(\n",
    "        input_length=1,\n",
    "        output_length=1,\n",
    "        hidden_layer_length=16\n",
    "    )\n",
    "network.create_network()"
   ]
  },
  {
   "cell_type": "code",
   "execution_count": 15,
   "metadata": {},
   "outputs": [
    {
     "name": "stdout",
     "output_type": "stream",
     "text": [
      "iteration 1 out of 10\n",
      "Average error:52.09 percent\n",
      "iteration 2 out of 10\n",
      "Average error:59.41 percent\n",
      "iteration 3 out of 10\n",
      "Average error:59.01 percent\n",
      "iteration 4 out of 10\n",
      "Average error:62.10 percent\n",
      "iteration 5 out of 10\n",
      "Average error:95.15 percent\n",
      "iteration 6 out of 10\n",
      "Average error:55.16 percent\n",
      "iteration 7 out of 10\n",
      "Average error:64.10 percent\n",
      "iteration 8 out of 10\n",
      "Average error:58.71 percent\n",
      "iteration 9 out of 10\n",
      "Average error:66.35 percent\n",
      "iteration 10 out of 10\n",
      "Average error:53.09 percent\n",
      "[0.520876052389813, 0.5941289280099424, 0.5900804096754623, 0.620968712138614, 0.9514545689876173, 0.5515881354211957, 0.6409815709911743, 0.5870833237959572, 0.6634779428166964, 0.5309151705374174]\n"
     ]
    },
    {
     "data": {
      "image/png": "[encoded data removed]",
      "text/plain": [
       "<Figure size 432x288 with 1 Axes>"
      ]
     },
     "metadata": {
      "needs_background": "light"
     },
     "output_type": "display_data"
    }
   ],
   "source": [
    "avgs = []\n",
    "num_epochs = 10\n",
    "for i in range(num_epochs):\n",
    "    print(\"iteration %i out of %i\" % ((i + 1), num_epochs))\n",
    "    #avg = train_test_MNIST(network, batch_ratio=0.01)\n",
    "    avg = train_test_SIN(network, num_passes=100)\n",
    "    avgs.append(avg)\n",
    "print(avgs)\n",
    "plt.plot(avgs)\n",
    "plt.xlabel(\"Training Epoch\")\n",
    "plt.ylabel(\"%error\")\n",
    "plt.show()\n"
   ]
  }
 ],
 "metadata": {
  "kernelspec": {
   "display_name": "Python 3",
   "language": "python",
   "name": "python3"
  },
  "language_info": {
   "codemirror_mode": {
    "name": "ipython",
    "version": 3
   },
   "file_extension": ".py",
   "mimetype": "text/x-python",
   "name": "python",
   "nbconvert_exporter": "python",
   "pygments_lexer": "ipython3",
   "version": "3.6.7"
  }
 },
 "nbformat": 4,
 "nbformat_minor": 2
}
